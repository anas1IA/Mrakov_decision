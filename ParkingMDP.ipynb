{
  "nbformat": 4,
  "nbformat_minor": 0,
  "metadata": {
    "colab": {
      "provenance": [],
      "authorship_tag": "ABX9TyMLlnZ5AGfnYOiIHVW6cDTI",
      "include_colab_link": true
    },
    "kernelspec": {
      "name": "python3",
      "display_name": "Python 3"
    },
    "language_info": {
      "name": "python"
    }
  },
  "cells": [
    {
      "cell_type": "markdown",
      "metadata": {
        "id": "view-in-github",
        "colab_type": "text"
      },
      "source": [
        "<a href=\"https://colab.research.google.com/github/anas1IA/Mrakov_decision/blob/main/ParkingMDP.ipynb\" target=\"_parent\"><img src=\"https://colab.research.google.com/assets/colab-badge.svg\" alt=\"Open In Colab\"/></a>"
      ]
    },
    {
      "cell_type": "code",
      "source": [
        "def states(N, M):\n",
        "    return [(i, j) for i in range(0,N+1,1) for j in range(0,M+1,1)if (i, j) != (1, 1)]"
      ],
      "metadata": {
        "id": "ESWu1ef747bR"
      },
      "execution_count": 29,
      "outputs": []
    },
    {
      "cell_type": "code",
      "source": [
        "S = states(4,3)"
      ],
      "metadata": {
        "id": "slBMa6Vp40ab"
      },
      "execution_count": 30,
      "outputs": []
    },
    {
      "cell_type": "code",
      "source": [
        "actions = { s:('U', 'D', 'L', 'R') for s in S}   ; #actions[ (0, 0) ] = ('D', 'R')  ; actions[ (2,3) ] = ('U', 'L')\n",
        "cross = { 'U': ('L', 'R'), 'D': ('L', 'R'), 'L': ('U', 'D'), 'R': ('U', 'D')}\n",
        "d = { 'U': (-1, 0), 'D': (1, 0), 'L': (0, -1), 'R': (0, 1)}"
      ],
      "metadata": {
        "id": "U9VZKs6o4ykq"
      },
      "execution_count": 31,
      "outputs": []
    },
    {
      "cell_type": "code",
      "source": [
        "Gamma = 0.9\n",
        "GREEN =(0,3)\n",
        "RED  = (1,3)"
      ],
      "metadata": {
        "id": "T9wKAEVuvG48"
      },
      "execution_count": 34,
      "outputs": []
    },
    {
      "cell_type": "code",
      "source": [
        "actions = { s:('U', 'D', 'L', 'R') for s in S}"
      ],
      "metadata": {
        "id": "pNYPgclx4R76"
      },
      "execution_count": 32,
      "outputs": []
    },
    {
      "cell_type": "code",
      "source": [
        "R = { s:0 for s in S}  ;  R[GREEN] = 1  ;  R[RED] = -100\n",
        "V = { s:0 for s in S}  ;  V[GREEN] = 1  ;  V[RED] = -100"
      ],
      "metadata": {
        "id": "mm7lnP-l5Gut"
      },
      "execution_count": 35,
      "outputs": []
    },
    {
      "cell_type": "code",
      "source": [
        "P = { s: {a:{} for a in actions[s] } for s in S}\n",
        "inf = float(\"inf\")"
      ],
      "metadata": {
        "id": "rxcrjWX_5Pxs"
      },
      "execution_count": 36,
      "outputs": []
    },
    {
      "cell_type": "code",
      "source": [],
      "metadata": {
        "id": "A3IT3Pty7CYJ"
      },
      "execution_count": null,
      "outputs": []
    },
    {
      "cell_type": "code",
      "source": [
        "def T( s, a, s2 ):\n",
        "   nbghrs = { }  # {  s2:T( s, a, s2 )  }\n",
        "\n",
        "   return nbghrs.get(s2, 0)"
      ],
      "metadata": {
        "id": "aNtHzWLH5X88"
      },
      "execution_count": null,
      "outputs": []
    },
    {
      "cell_type": "code",
      "source": [
        "def valueIteration(S):\n",
        "    # initialize\n",
        "    V = {} # state -> Vopt[state]\n",
        "    for state in S.states():\n",
        "        V[state] = 0.\n",
        "\n",
        "    def Q(state, action):\n",
        "        return sum(prob*(reward + S.discount()*V[newState]) \\\n",
        "                for newState, prob, reward in S.succProbReward(state, action))\n",
        "\n",
        "    while True:\n",
        "        # compute the new values (newV) given the old values (V)\n",
        "        newV = {}\n",
        "        for state in S.states():\n",
        "            if S.isEnd(state):\n",
        "                newV[state] = 0.\n",
        "            else:\n",
        "                newV[state] = max(Q(state, action) for action in S.actions(state))\n",
        "        # check for convergence\n",
        "        if max(abs(V[state]-newV[state]) for state in S.states())<1e-10:\n",
        "            break\n",
        "        V = newV\n",
        "\n",
        "        # read out policy\n",
        "        pi = {}\n",
        "        for state in S.states():\n",
        "            if S.isEnd(state):\n",
        "                pi[state] = 'none'\n",
        "            else:\n",
        "                pi[state] = max((Q(state, action), action) for action in S.actions(state))[1]"
      ],
      "metadata": {
        "id": "zJD6Xgr25649"
      },
      "execution_count": null,
      "outputs": []
    }
  ]
}