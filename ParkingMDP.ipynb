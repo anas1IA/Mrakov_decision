{
  "nbformat": 4,
  "nbformat_minor": 0,
  "metadata": {
    "colab": {
      "provenance": [],
      "authorship_tag": "ABX9TyNMVsRCP6WTlD7mk9OBY2/y",
      "include_colab_link": true
    },
    "kernelspec": {
      "name": "python3",
      "display_name": "Python 3"
    },
    "language_info": {
      "name": "python"
    }
  },
  "cells": [
    {
      "cell_type": "markdown",
      "metadata": {
        "id": "view-in-github",
        "colab_type": "text"
      },
      "source": [
        "<a href=\"https://colab.research.google.com/github/anas1IA/Mrakov_decision/blob/main/ParkingMDP.ipynb\" target=\"_parent\"><img src=\"https://colab.research.google.com/assets/colab-badge.svg\" alt=\"Open In Colab\"/></a>"
      ]
    },
    {
      "cell_type": "code",
      "source": [
        "def states(N, M):\n",
        "    return [(i, j) for i in range(0,N-1,1) for j in range(0,M+1,1)if (i, j) != (1, 1)]"
      ],
      "metadata": {
        "id": "ESWu1ef747bR"
      },
      "execution_count": 128,
      "outputs": []
    },
    {
      "cell_type": "code",
      "source": [
        "S = states(4,3)\n",
        "S"
      ],
      "metadata": {
        "id": "slBMa6Vp40ab",
        "outputId": "7d9a1acc-3618-4d7a-f824-0843601a22bd",
        "colab": {
          "base_uri": "https://localhost:8080/"
        }
      },
      "execution_count": 129,
      "outputs": [
        {
          "output_type": "execute_result",
          "data": {
            "text/plain": [
              "[(0, 0),\n",
              " (0, 1),\n",
              " (0, 2),\n",
              " (0, 3),\n",
              " (1, 0),\n",
              " (1, 2),\n",
              " (1, 3),\n",
              " (2, 0),\n",
              " (2, 1),\n",
              " (2, 2),\n",
              " (2, 3)]"
            ]
          },
          "metadata": {},
          "execution_count": 129
        }
      ]
    },
    {
      "cell_type": "code",
      "source": [
        "actions = {\n",
        "    (0, 0): ['R', 'L'],\n",
        "    (0, 1): ['L', 'R'],\n",
        "    (0, 2): ['R', 'L', 'D'],\n",
        "    (0, 3): ['R', 'D'],\n",
        "    (1, 0): ['U', 'D'],\n",
        "    (1, 2): ['U', 'R', 'D'],\n",
        "    (1, 3): ['U', 'D', 'R'],\n",
        "    (2, 0): ['U', 'R'],\n",
        "    (2, 1): ['R', 'L'],\n",
        "    (2, 2): ['U', 'R','L'],\n",
        "    (2, 3): ['U', 'L']\n",
        "}\n",
        "\n",
        "\n"
      ],
      "metadata": {
        "id": "P4G1cXlECKLE"
      },
      "execution_count": 130,
      "outputs": []
    },
    {
      "cell_type": "code",
      "source": [
        "actions = { s:('U', 'D', 'L', 'R') for s in S}   ; #actions[ (0, 0) ] = ('D', 'R')  ; actions[ (2,3) ] = ('U', 'L')\n",
        "cross = { 'U': ('L', 'R'), 'D': ('L', 'R'), 'L': ('U', 'D'), 'R': ('U', 'D')}\n",
        "d = { 'U': (-1, 0), 'D': (1, 0), 'L': (0, -1), 'R': (0, 1)}\n"
      ],
      "metadata": {
        "id": "U9VZKs6o4ykq"
      },
      "execution_count": 110,
      "outputs": []
    },
    {
      "cell_type": "code",
      "source": [
        "Gamma = 0.9\n",
        "GREEN =(0,3)\n",
        "RED  = (1,3)"
      ],
      "metadata": {
        "id": "T9wKAEVuvG48"
      },
      "execution_count": 111,
      "outputs": []
    },
    {
      "cell_type": "code",
      "source": [
        "R = { s:0 for s in S}  ;  R[GREEN] = 1  ;  R[RED] = -100\n",
        "V = { s:0 for s in S}  ;  V[GREEN] = 1  ;  V[RED] = -100"
      ],
      "metadata": {
        "id": "mm7lnP-l5Gut"
      },
      "execution_count": 112,
      "outputs": []
    },
    {
      "cell_type": "code",
      "source": [
        "P = { s: {a:{} for a in actions[s] } for s in S}\n",
        "inf = float(\"inf\")"
      ],
      "metadata": {
        "id": "rxcrjWX_5Pxs"
      },
      "execution_count": 113,
      "outputs": []
    },
    {
      "cell_type": "code",
      "source": [
        "def T(s, a, s2):\n",
        "    nbhrs = {}\n",
        "    if s2 in S:\n",
        "        possible_actions = actions[s]\n",
        "        if a in possible_actions:\n",
        "            if s2 == GREEN or s2 == RED:\n",
        "                nbhrs[s2] = 1\n",
        "            else:\n",
        "                # Check if s2 is reachable from s under action a\n",
        "                if s2 in [(s[0] + d[a][0], s[1] + d[a][1])]:\n",
        "                    if a == 'U' or a == 'D':\n",
        "                        nbhrs[s2] = 0.8\n",
        "                    else:\n",
        "                        nbhrs[s2] = 0.1\n",
        "                else:\n",
        "                    nbhrs[s2] = 0\n",
        "                # Check if s2 is reachable from s under other actions\n",
        "                for action in possible_actions:\n",
        "                    if action != a:\n",
        "                        if s2 in [(s[0] + d[action][0], s[1] + d[action][1])]:\n",
        "                            nbhrs[s2] += 0.1 / len(possible_actions)\n",
        "            return nbhrs.get(s2, 0)\n",
        "        else:\n",
        "            return 0\n",
        "    else:\n",
        "        return 0\n",
        "s = (0.0)\n",
        "s2=(1 ,0)\n",
        "a = 'D'\n",
        "result = T(s, a, s2)\n",
        "result"
      ],
      "metadata": {
        "id": "abnBUnKN3x5U",
        "outputId": "e8e0a3ad-045f-4376-ade8-eb77725cb30c",
        "colab": {
          "base_uri": "https://localhost:8080/",
          "height": 314
        }
      },
      "execution_count": 131,
      "outputs": [
        {
          "output_type": "error",
          "ename": "KeyError",
          "evalue": "0.0",
          "traceback": [
            "\u001b[0;31m---------------------------------------------------------------------------\u001b[0m",
            "\u001b[0;31mKeyError\u001b[0m                                  Traceback (most recent call last)",
            "\u001b[0;32m<ipython-input-131-ece0719e4b4c>\u001b[0m in \u001b[0;36m<cell line: 30>\u001b[0;34m()\u001b[0m\n\u001b[1;32m     28\u001b[0m \u001b[0ms2\u001b[0m\u001b[0;34m=\u001b[0m\u001b[0;34m(\u001b[0m\u001b[0;36m1\u001b[0m \u001b[0;34m,\u001b[0m\u001b[0;36m0\u001b[0m\u001b[0;34m)\u001b[0m\u001b[0;34m\u001b[0m\u001b[0;34m\u001b[0m\u001b[0m\n\u001b[1;32m     29\u001b[0m \u001b[0ma\u001b[0m \u001b[0;34m=\u001b[0m \u001b[0;34m'D'\u001b[0m\u001b[0;34m\u001b[0m\u001b[0;34m\u001b[0m\u001b[0m\n\u001b[0;32m---> 30\u001b[0;31m \u001b[0mresult\u001b[0m \u001b[0;34m=\u001b[0m \u001b[0mT\u001b[0m\u001b[0;34m(\u001b[0m\u001b[0ms\u001b[0m\u001b[0;34m,\u001b[0m \u001b[0ma\u001b[0m\u001b[0;34m,\u001b[0m \u001b[0ms2\u001b[0m\u001b[0;34m)\u001b[0m\u001b[0;34m\u001b[0m\u001b[0;34m\u001b[0m\u001b[0m\n\u001b[0m\u001b[1;32m     31\u001b[0m \u001b[0mresult\u001b[0m\u001b[0;34m\u001b[0m\u001b[0;34m\u001b[0m\u001b[0m\n",
            "\u001b[0;32m<ipython-input-131-ece0719e4b4c>\u001b[0m in \u001b[0;36mT\u001b[0;34m(s, a, s2)\u001b[0m\n\u001b[1;32m      2\u001b[0m     \u001b[0mnbhrs\u001b[0m \u001b[0;34m=\u001b[0m \u001b[0;34m{\u001b[0m\u001b[0;34m}\u001b[0m\u001b[0;34m\u001b[0m\u001b[0;34m\u001b[0m\u001b[0m\n\u001b[1;32m      3\u001b[0m     \u001b[0;32mif\u001b[0m \u001b[0ms2\u001b[0m \u001b[0;32min\u001b[0m \u001b[0mS\u001b[0m\u001b[0;34m:\u001b[0m\u001b[0;34m\u001b[0m\u001b[0;34m\u001b[0m\u001b[0m\n\u001b[0;32m----> 4\u001b[0;31m         \u001b[0mpossible_actions\u001b[0m \u001b[0;34m=\u001b[0m \u001b[0mactions\u001b[0m\u001b[0;34m[\u001b[0m\u001b[0ms\u001b[0m\u001b[0;34m]\u001b[0m\u001b[0;34m\u001b[0m\u001b[0;34m\u001b[0m\u001b[0m\n\u001b[0m\u001b[1;32m      5\u001b[0m         \u001b[0;32mif\u001b[0m \u001b[0ma\u001b[0m \u001b[0;32min\u001b[0m \u001b[0mpossible_actions\u001b[0m\u001b[0;34m:\u001b[0m\u001b[0;34m\u001b[0m\u001b[0;34m\u001b[0m\u001b[0m\n\u001b[1;32m      6\u001b[0m             \u001b[0;32mif\u001b[0m \u001b[0ms2\u001b[0m \u001b[0;34m==\u001b[0m \u001b[0mGREEN\u001b[0m \u001b[0;32mor\u001b[0m \u001b[0ms2\u001b[0m \u001b[0;34m==\u001b[0m \u001b[0mRED\u001b[0m\u001b[0;34m:\u001b[0m\u001b[0;34m\u001b[0m\u001b[0;34m\u001b[0m\u001b[0m\n",
            "\u001b[0;31mKeyError\u001b[0m: 0.0"
          ]
        }
      ]
    },
    {
      "cell_type": "code",
      "source": [
        "def T( s, a, s2 ):\n",
        "   nbghrs = { }  # {  s2:T( s, a, s2 )  }\n",
        "   if a == 'U':\n",
        "    s2 = (s[0] -1, s[1] )\n",
        "    if s2 in S:\n",
        "      nbghrs = {s2:0.8}\n",
        "    else:\n",
        "      nbghrs = {s:1}\n",
        "   if a == 'D':\n",
        "      s2 = (s[0] +1, s[1] )\n",
        "      if s2 in S:\n",
        "       nbghrs = {s2:0.8}\n",
        "      else:\n",
        "       nbghrs = {s:1}\n",
        "   if a == 'L':\n",
        "      s2 = (s[0], s[1] -1 )\n",
        "      if s2 in S:\n",
        "        nbghrs = {s2:0.1}\n",
        "      else:\n",
        "       nbghrs = {s:1}\n",
        "   if a == 'R':\n",
        "      s2 = (s[0] , s[1] + 1)\n",
        "      if s2 in S:\n",
        "       nbghrs = {s2:0.1}\n",
        "      else:\n",
        "       nbghrs = {s:1}\n",
        "   return nbghrs.get(s2,0)\n",
        "s = (1, 2)\n",
        "a = 'D'\n",
        "result = T(s, a, S)\n",
        "result"
      ],
      "metadata": {
        "id": "aNtHzWLH5X88"
      },
      "execution_count": null,
      "outputs": []
    },
    {
      "cell_type": "code",
      "source": [
        "def printVals(V):\n",
        "   for i in range(3):\n",
        "      for j in range(4):\n",
        "         print( f\"{V.get( (i,j), -inf): 7.3f}\", end= '\\t')\n",
        "      print()"
      ],
      "metadata": {
        "id": "UK4_jVA5ctIi"
      },
      "execution_count": null,
      "outputs": []
    },
    {
      "cell_type": "code",
      "source": [
        "def printPolicy(V):\n",
        "   for i in range(3):\n",
        "      for j in range(4):\n",
        "         print( V.get( (i,j), '#'), end= '\\t')\n",
        "      print()"
      ],
      "metadata": {
        "id": "faHKOoKhcuHO"
      },
      "execution_count": null,
      "outputs": []
    }
  ]
}